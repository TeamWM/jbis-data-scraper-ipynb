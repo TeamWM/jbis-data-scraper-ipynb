{
 "cells": [
  {
   "cell_type": "markdown",
   "metadata": {},
   "source": [
    "抽出したデータを一括で読み込み一つのデータフレームにする"
   ]
  },
  {
   "cell_type": "code",
   "execution_count": 6,
   "metadata": {},
   "outputs": [],
   "source": [
    "import numpy as np\n",
    "import pandas as pd\n",
    "from glob import glob"
   ]
  },
  {
   "cell_type": "code",
   "execution_count": 8,
   "metadata": {},
   "outputs": [
    {
     "data": {
      "text/plain": [
       "['./data/h_desc/20170601_218_01.csv',\n",
       " './data/h_desc/20170601_218_02.csv',\n",
       " './data/h_desc/20170601_218_03.csv',\n",
       " './data/h_desc/20170601_218_04.csv',\n",
       " './data/h_desc/20170601_218_05.csv']"
      ]
     },
     "execution_count": 8,
     "metadata": {},
     "output_type": "execute_result"
    }
   ],
   "source": [
    "# データのファイルパスを一括で読み込む\n",
    "path = './data/h_desc/'\n",
    "all_files = glob(path + '*.csv')\n",
    "all_files[:5]"
   ]
  },
  {
   "cell_type": "code",
   "execution_count": 9,
   "metadata": {},
   "outputs": [],
   "source": [
    "df = pd.concat(pd.read_csv(f) for f in all_files)"
   ]
  },
  {
   "cell_type": "code",
   "execution_count": 10,
   "metadata": {},
   "outputs": [
    {
     "data": {
      "text/plain": [
       "(179412, 81)"
      ]
     },
     "execution_count": 10,
     "metadata": {},
     "output_type": "execute_result"
    }
   ],
   "source": [
    "df.shape"
   ]
  },
  {
   "cell_type": "code",
   "execution_count": 11,
   "metadata": {},
   "outputs": [
    {
     "data": {
      "text/html": [
       "<div>\n",
       "<style scoped>\n",
       "    .dataframe tbody tr th:only-of-type {\n",
       "        vertical-align: middle;\n",
       "    }\n",
       "\n",
       "    .dataframe tbody tr th {\n",
       "        vertical-align: top;\n",
       "    }\n",
       "\n",
       "    .dataframe thead th {\n",
       "        text-align: right;\n",
       "    }\n",
       "</style>\n",
       "<table border=\"1\" class=\"dataframe\">\n",
       "  <thead>\n",
       "    <tr style=\"text-align: right;\">\n",
       "      <th></th>\n",
       "      <th>番号</th>\n",
       "      <th>競走馬</th>\n",
       "      <th>登録</th>\n",
       "      <th>品種</th>\n",
       "      <th>性別</th>\n",
       "      <th>生年月日</th>\n",
       "      <th>馬主</th>\n",
       "      <th>毛色</th>\n",
       "      <th>調教師</th>\n",
       "      <th>生産牧場</th>\n",
       "      <th>...</th>\n",
       "      <th>54</th>\n",
       "      <th>55</th>\n",
       "      <th>56</th>\n",
       "      <th>57</th>\n",
       "      <th>58</th>\n",
       "      <th>59</th>\n",
       "      <th>60</th>\n",
       "      <th>61</th>\n",
       "      <th>62</th>\n",
       "      <th>品種 (アラブ血量)</th>\n",
       "    </tr>\n",
       "  </thead>\n",
       "  <tbody>\n",
       "    <tr>\n",
       "      <th>0</th>\n",
       "      <td>1204099</td>\n",
       "      <td>アヴァレソー</td>\n",
       "      <td>地方現役</td>\n",
       "      <td>サラ</td>\n",
       "      <td>牡</td>\n",
       "      <td>\\n\\n2015/05/12\\n5歳\\n\\n</td>\n",
       "      <td>（有）太盛</td>\n",
       "      <td>栗毛</td>\n",
       "      <td>薮口　一麻（浦　和）</td>\n",
       "      <td>まるとみ冨岡牧場</td>\n",
       "      <td>...</td>\n",
       "      <td>NaN</td>\n",
       "      <td>NaN</td>\n",
       "      <td>NaN</td>\n",
       "      <td>NaN</td>\n",
       "      <td>NaN</td>\n",
       "      <td>NaN</td>\n",
       "      <td>NaN</td>\n",
       "      <td>NaN</td>\n",
       "      <td>NaN</td>\n",
       "      <td>NaN</td>\n",
       "    </tr>\n",
       "    <tr>\n",
       "      <th>1</th>\n",
       "      <td>372825</td>\n",
       "      <td>プリサイスエンド(USA)</td>\n",
       "      <td>繁殖</td>\n",
       "      <td>サラ</td>\n",
       "      <td>牡</td>\n",
       "      <td>\\n\\n1997/04/04\\n23歳\\n\\n</td>\n",
       "      <td></td>\n",
       "      <td>黒鹿毛</td>\n",
       "      <td></td>\n",
       "      <td>Harry T. Mangurian Jr.</td>\n",
       "      <td>...</td>\n",
       "      <td>NaN</td>\n",
       "      <td>NaN</td>\n",
       "      <td>NaN</td>\n",
       "      <td>NaN</td>\n",
       "      <td>NaN</td>\n",
       "      <td>NaN</td>\n",
       "      <td>NaN</td>\n",
       "      <td>NaN</td>\n",
       "      <td>NaN</td>\n",
       "      <td>NaN</td>\n",
       "    </tr>\n",
       "    <tr>\n",
       "      <th>2</th>\n",
       "      <td>807623</td>\n",
       "      <td>アルセイド</td>\n",
       "      <td>繁殖</td>\n",
       "      <td>サラ</td>\n",
       "      <td>牝</td>\n",
       "      <td>\\n\\n2004/05/28\\n16歳\\n\\n</td>\n",
       "      <td>（有）キャロットファーム</td>\n",
       "      <td>栗毛</td>\n",
       "      <td>的場　均（美　浦）</td>\n",
       "      <td>追分ファーム</td>\n",
       "      <td>...</td>\n",
       "      <td>NaN</td>\n",
       "      <td>NaN</td>\n",
       "      <td>NaN</td>\n",
       "      <td>NaN</td>\n",
       "      <td>NaN</td>\n",
       "      <td>NaN</td>\n",
       "      <td>NaN</td>\n",
       "      <td>NaN</td>\n",
       "      <td>NaN</td>\n",
       "      <td>NaN</td>\n",
       "    </tr>\n",
       "    <tr>\n",
       "      <th>3</th>\n",
       "      <td>1205236</td>\n",
       "      <td>ダイバエミュー</td>\n",
       "      <td>地方抹消</td>\n",
       "      <td>サラ</td>\n",
       "      <td>牝</td>\n",
       "      <td>2015/03/23</td>\n",
       "      <td>丹呉通孝</td>\n",
       "      <td>栗毛</td>\n",
       "      <td>箕輪　武（浦　和）</td>\n",
       "      <td>藤本牧場</td>\n",
       "      <td>...</td>\n",
       "      <td>NaN</td>\n",
       "      <td>NaN</td>\n",
       "      <td>NaN</td>\n",
       "      <td>NaN</td>\n",
       "      <td>NaN</td>\n",
       "      <td>NaN</td>\n",
       "      <td>NaN</td>\n",
       "      <td>NaN</td>\n",
       "      <td>NaN</td>\n",
       "      <td>NaN</td>\n",
       "    </tr>\n",
       "    <tr>\n",
       "      <th>4</th>\n",
       "      <td>807282</td>\n",
       "      <td>フリオーソ</td>\n",
       "      <td>繁殖</td>\n",
       "      <td>サラ</td>\n",
       "      <td>牡</td>\n",
       "      <td>\\n\\n2004/05/01\\n16歳\\n\\n</td>\n",
       "      <td>ダーレー・ジャパン・ファーム（有）</td>\n",
       "      <td>栗毛</td>\n",
       "      <td>川島　正行（船　橋）</td>\n",
       "      <td>ハシモトフアーム</td>\n",
       "      <td>...</td>\n",
       "      <td>NaN</td>\n",
       "      <td>NaN</td>\n",
       "      <td>NaN</td>\n",
       "      <td>NaN</td>\n",
       "      <td>NaN</td>\n",
       "      <td>NaN</td>\n",
       "      <td>NaN</td>\n",
       "      <td>NaN</td>\n",
       "      <td>NaN</td>\n",
       "      <td>NaN</td>\n",
       "    </tr>\n",
       "  </tbody>\n",
       "</table>\n",
       "<p>5 rows × 81 columns</p>\n",
       "</div>"
      ],
      "text/plain": [
       "        番号            競走馬    登録  品種   性別                     生年月日  \\\n",
       "0  1204099         アヴァレソー  地方現役  サラ    牡   \\n\\n2015/05/12\\n5歳\\n\\n   \n",
       "1   372825  プリサイスエンド(USA)    繁殖  サラ    牡  \\n\\n1997/04/04\\n23歳\\n\\n   \n",
       "2   807623          アルセイド    繁殖  サラ    牝  \\n\\n2004/05/28\\n16歳\\n\\n   \n",
       "3  1205236        ダイバエミュー  地方抹消  サラ    牝              2015/03/23    \n",
       "4   807282          フリオーソ    繁殖  サラ    牡  \\n\\n2004/05/01\\n16歳\\n\\n   \n",
       "\n",
       "                  馬主   毛色         調教師                    生産牧場  ...   54   55  \\\n",
       "0              （有）太盛   栗毛  薮口　一麻（浦　和）                まるとみ冨岡牧場  ...  NaN  NaN   \n",
       "1                     黒鹿毛              Harry T. Mangurian Jr.  ...  NaN  NaN   \n",
       "2       （有）キャロットファーム   栗毛   的場　均（美　浦）                  追分ファーム  ...  NaN  NaN   \n",
       "3               丹呉通孝   栗毛   箕輪　武（浦　和）                    藤本牧場  ...  NaN  NaN   \n",
       "4  ダーレー・ジャパン・ファーム（有）   栗毛  川島　正行（船　橋）                ハシモトフアーム  ...  NaN  NaN   \n",
       "\n",
       "   56  57  58  59  60  61  62  品種 (アラブ血量)  \n",
       "0 NaN NaN NaN NaN NaN NaN NaN         NaN  \n",
       "1 NaN NaN NaN NaN NaN NaN NaN         NaN  \n",
       "2 NaN NaN NaN NaN NaN NaN NaN         NaN  \n",
       "3 NaN NaN NaN NaN NaN NaN NaN         NaN  \n",
       "4 NaN NaN NaN NaN NaN NaN NaN         NaN  \n",
       "\n",
       "[5 rows x 81 columns]"
      ]
     },
     "execution_count": 11,
     "metadata": {},
     "output_type": "execute_result"
    }
   ],
   "source": [
    "df.head()"
   ]
  },
  {
   "cell_type": "code",
   "execution_count": 13,
   "metadata": {},
   "outputs": [],
   "source": [
    "df.drop_duplicates().to_csv('./horse_description.csv')"
   ]
  },
  {
   "cell_type": "code",
   "execution_count": null,
   "metadata": {},
   "outputs": [],
   "source": []
  }
 ],
 "metadata": {
  "kernelspec": {
   "display_name": "Python 3",
   "language": "python",
   "name": "python3"
  },
  "language_info": {
   "codemirror_mode": {
    "name": "ipython",
    "version": 3
   },
   "file_extension": ".py",
   "mimetype": "text/x-python",
   "name": "python",
   "nbconvert_exporter": "python",
   "pygments_lexer": "ipython3",
   "version": "3.6.9"
  }
 },
 "nbformat": 4,
 "nbformat_minor": 4
}
